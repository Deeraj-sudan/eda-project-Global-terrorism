{
  "nbformat": 4,
  "nbformat_minor": 0,
  "metadata": {
    "colab": {
      "private_outputs": true,
      "provenance": [],
      "collapsed_sections": [
        "vncDsAP0Gaoa",
        "FJNUwmbgGyua",
        "w6K7xa23Elo4",
        "yQaldy8SH6Dl",
        "PH-0ReGfmX4f",
        "mDgbUHAGgjLW",
        "O_i_v8NEhb9l",
        "HhfV-JJviCcP",
        "Y3lxredqlCYt",
        "3RnN4peoiCZX",
        "x71ZqKXriCWQ",
        "7hBIi_osiCS2",
        "JlHwYmJAmNHm",
        "35m5QtbWiB9F",
        "PoPl-ycgm1ru",
        "H0kj-8xxnORC",
        "nA9Y7ga8ng1Z",
        "PBTbrJXOngz2",
        "u3PMJOP6ngxN",
        "dauF4eBmngu3",
        "bKJF3rekwFvQ",
        "MSa1f5Uengrz",
        "GF8Ens_Soomf",
        "0wOQAZs5pc--",
        "K5QZ13OEpz2H",
        "lQ7QKXXCp7Bj",
        "448CDAPjqfQr",
        "KSlN3yHqYklG",
        "t6dVpIINYklI",
        "ijmpgYnKYklI",
        "-JiQyfWJYklI",
        "EM7whBJCYoAo",
        "fge-S5ZAYoAp",
        "85gYPyotYoAp",
        "RoGjAbkUYoAp",
        "4Of9eVA-YrdM",
        "iky9q4vBYrdO",
        "F6T5p64dYrdO",
        "y-Ehk30pYrdP",
        "bamQiAODYuh1",
        "QHF8YVU7Yuh3",
        "GwzvFGzlYuh3",
        "qYpmQ266Yuh3",
        "OH-pJp9IphqM",
        "bbFf2-_FphqN",
        "_ouA3fa0phqN",
        "Seke61FWphqN",
        "PIIx-8_IphqN",
        "t27r6nlMphqO",
        "r2jJGEOYphqO",
        "b0JNsNcRphqO",
        "BZR9WyysphqO",
        "jj7wYXLtphqO",
        "eZrbJ2SmphqO",
        "rFu4xreNphqO",
        "YJ55k-q6phqO",
        "gCFgpxoyphqP",
        "OVtJsKN_phqQ",
        "lssrdh5qphqQ",
        "U2RJ9gkRphqQ",
        "1M8mcRywphqQ",
        "tgIPom80phqQ",
        "JMzcOPDDphqR",
        "x-EpHcCOp1ci",
        "X_VqEhTip1ck",
        "8zGJKyg5p1ck",
        "PVzmfK_Ep1ck",
        "n3dbpmDWp1ck",
        "ylSl6qgtp1ck",
        "ZWILFDl5p1ck",
        "M7G43BXep1ck",
        "Ag9LCva-p1cl",
        "E6MkPsBcp1cl",
        "2cELzS2fp1cl",
        "3MPXvC8up1cl",
        "NC_X3p0fY2L0",
        "UV0SzAkaZNRQ",
        "YPEH6qLeZNRQ",
        "q29F0dvdveiT",
        "EXh0U9oCveiU",
        "22aHeOlLveiV",
        "JcMwzZxoAimU",
        "8G2x9gOozGDZ",
        "gCX9965dhzqZ",
        "gIfDvo9L0UH2"
      ],
      "include_colab_link": true
    },
    "kernelspec": {
      "name": "python3",
      "display_name": "Python 3"
    },
    "language_info": {
      "name": "python"
    }
  },
  "cells": [
    {
      "cell_type": "markdown",
      "metadata": {
        "id": "view-in-github",
        "colab_type": "text"
      },
      "source": [
        "<a href=\"https://colab.research.google.com/github/Deeraj-sudan/eda-project-Global-terrorism/blob/main/Sample_EDA_Submission_Template.ipynb\" target=\"_parent\"><img src=\"https://colab.research.google.com/assets/colab-badge.svg\" alt=\"Open In Colab\"/></a>"
      ]
    },
    {
      "cell_type": "markdown",
      "source": [
        "# **Project Name**    -\n",
        "\n"
      ],
      "metadata": {
        "id": "vncDsAP0Gaoa"
      }
    },
    {
      "cell_type": "markdown",
      "source": [
        " **Project Type**    - EDA/Regression/Classification/Unsupervised\n",
        "##### **Contribution**    - Individual\n",
        "\n",
        "####  **Name** - Deeraj Sudan\n"
      ],
      "metadata": {
        "id": "1ApyHc98Ns5y"
      }
    },
    {
      "cell_type": "markdown",
      "source": [
        "# **Project Summary -**"
      ],
      "metadata": {
        "id": "FJNUwmbgGyua"
      }
    },
    {
      "cell_type": "markdown",
      "source": [
        "Terrorism has been a persistent problem for the world for the past one hundred years. The two World Wars and the Cold War have been marked by acts of terrorism, and the post-9/11 era has seen a sharp increase in terrorist activities.In 2021,the ressurgence of Taliban in South Asia had destabalized the region Over the years, terrorist groups have used various tactics such as suicide bombings, hijackings, and cyberattacks to create fear and instability. The rise of extremist ideologies and the proliferation of weapons have made it easier for these groups to carry out their attacks. Despite efforts by governments and international organizations to combat terrorism, it remains a significant threat to global peace and security. Vigilance and coordinated action are required to effectively address this problem.\n",
        "\n",
        "\n",
        "The Global Terrorism Dataset examines all instances of terrorism that have taken place since 1970. The dataset covers a range of categories and provides concise information about the affected region, the type of attack, the types of weapons used, the various types of targets and subcategories, the number of fatalities, and the extent of property damage.\n",
        "\n",
        "The primary focus of the EDA project is to examine the trends and inter-relationships between the different categories. The project provides insights into the trends related to the specific category that has been studied by the Institute of Economics and Peace. For instance, it explores the correlation between the affected region and the preferred type of attack. Additionally, the analysis delves deeper to answer questions such as whether there is a relationship between the attacked region and the preferred type of target or weapon. This information can be used by countries and regions to better understand the specific issues that affect them and to develop more targeted solutions.\n",
        "\n",
        "The world can anticipate the contributions of enthusiastic and compassionate data analysts who can generate valuable insights into ongoing terror attacks. These efforts would aid countries in creating effective policies, forming stronger coalitions, promoting cooperation, and implementing comprehensive steps to combat terrorism.\n",
        "\n",
        "This project summarise all the information and insights which could help countries to track the trends and correlation between terror attacks."
      ],
      "metadata": {
        "id": "2YCL8iZYSUiY"
      }
    },
    {
      "cell_type": "markdown",
      "source": [
        "# **GitHub Link -**"
      ],
      "metadata": {
        "id": "w6K7xa23Elo4"
      }
    },
    {
      "cell_type": "markdown",
      "source": [
        "https://github.com/Deeraj-sudan/eda-project-Global-terrorism"
      ],
      "metadata": {
        "id": "h1o69JH3Eqqn"
      }
    },
    {
      "cell_type": "markdown",
      "source": [
        "# **Problem Statement**\n"
      ],
      "metadata": {
        "id": "yQaldy8SH6Dl"
      }
    },
    {
      "cell_type": "markdown",
      "source": [
        "* Year wise Terrorist Attack in the world.\n",
        "* Attacks from Year 1970-2017 in Each country.\n",
        "* Number of Attacks done in every country each year.\n",
        "* Most active terrorist group in a decade.\n",
        "* Type of attacks executed by the Terrorist Groups and their percentage in the world from 1970 to 2017.\n",
        "* Attacks in different regions for Years 1970-2017.\n",
        "* Terrorists Top Targets to attack.\n",
        "* Percentage of damage done in the world by different attacks.\n",
        "* Number of attacks in India.\n",
        "* No. of citizens killed each year in India.\n",
        "* Top Targets for terrorists in India.\n",
        "* Number of Attacks in Each City in India.\n",
        "* Most Active Terrorist Group Statewise in India.\n",
        "* Total Kills vs Type of Attack."
      ],
      "metadata": {
        "id": "IntscfhMV0Xv"
      }
    },
    {
      "cell_type": "markdown",
      "source": [
        "#### **Define Your Business Objective?**"
      ],
      "metadata": {
        "id": "PH-0ReGfmX4f"
      }
    },
    {
      "cell_type": "markdown",
      "source": [
        "* The threat of terrorism remains a pressing concern for governments, businesses, and individuals around the world. Despite significant efforts to combat terrorism, the number of incidents and the severity of their impact continue to escalate. For businesses operating in high-risk regions, the risk of terrorism is a significant concern, with financial losses, disrupted operations, and reputational damage among the potential consequences.\n",
        "\n",
        "* However, there is a lack of comprehensive and easily accessible information about global terrorism incidents, which makes it difficult for businesses to effectively manage the risk of terrorism. While there are various sources of data on terrorism incidents, these are often incomplete, inconsistent, and difficult to analyze.\n",
        "\n",
        "* The purpose of this capstone project is to address this problem by conducting a comprehensive analysis of global terrorism data. By leveraging data analytics techniques, this project aims to provide a detailed understanding of the patterns and trends of terrorism incidents, including the geographical distribution, the types of attacks, the motivations behind the attacks, and the impact on businesses.\n",
        "\n",
        "* The findings of this project will be valuable to businesses operating in high-risk regions, as well as those in the transportation, tourism, hospitality, and infrastructure industries. By providing insights into the nature of the terrorism threat, this project will enable businesses to better understand the risks they face and to develop effective strategies to mitigate those risks."
      ],
      "metadata": {
        "id": "PhDvGCAqmjP1"
      }
    },
    {
      "cell_type": "markdown",
      "source": [
        "# **General Guidelines** : -  "
      ],
      "metadata": {
        "id": "mDgbUHAGgjLW"
      }
    },
    {
      "cell_type": "markdown",
      "source": [
        "1.   Well-structured, formatted, and commented code is required.\n",
        "2.   Exception Handling, Production Grade Code & Deployment Ready Code will be a plus. Those students will be awarded some additional credits.\n",
        "     \n",
        "     The additional credits will have advantages over other students during Star Student selection.\n",
        "       \n",
        "             [ Note: - Deployment Ready Code is defined as, the whole .ipynb notebook should be executable in one go\n",
        "                       without a single error logged. ]\n",
        "\n",
        "3.   Each and every logic should have proper comments.\n",
        "4. You may add as many number of charts you want. Make Sure for each and every chart the following format should be answered.\n",
        "        \n",
        "\n",
        "```\n",
        "# Chart visualization code\n",
        "```\n",
        "            \n",
        "\n",
        "*   Why did you pick the specific chart?\n",
        "*   What is/are the insight(s) found from the chart?\n",
        "* Will the gained insights help creating a positive business impact?\n",
        "Are there any insights that lead to negative growth? Justify with specific reason.\n",
        "\n",
        "5. You have to create at least 20 logical & meaningful charts having important insights.\n",
        "\n",
        "\n",
        "[ Hints : - Do the Vizualization in  a structured way while following \"UBM\" Rule.\n",
        "\n",
        "U - Univariate Analysis,\n",
        "\n",
        "B - Bivariate Analysis (Numerical - Categorical, Numerical - Numerical, Categorical - Categorical)\n",
        "\n",
        "M - Multivariate Analysis\n",
        " ]\n",
        "\n",
        "\n",
        "\n"
      ],
      "metadata": {
        "id": "ZrxVaUj-hHfC"
      }
    },
    {
      "cell_type": "markdown",
      "source": [
        "# ***Let's Begin !***"
      ],
      "metadata": {
        "id": "O_i_v8NEhb9l"
      }
    },
    {
      "cell_type": "markdown",
      "source": [
        "## ***1. Know Your Data***"
      ],
      "metadata": {
        "id": "HhfV-JJviCcP"
      }
    },
    {
      "cell_type": "markdown",
      "source": [
        "### Import Libraries"
      ],
      "metadata": {
        "id": "Y3lxredqlCYt"
      }
    },
    {
      "cell_type": "code",
      "source": [
        "# Import Libraries\n",
        "import pandas as pd\n",
        "import numpy as np\n",
        "import ast\n",
        "import matplotlib as mpl\n",
        "import matplotlib.pyplot as plt\n",
        "%matplotlib inline\n",
        "pd.set_option(\"display.max_columns\", None)\n",
        "import seaborn as sns\n",
        "from scipy.stats import mode"
      ],
      "metadata": {
        "id": "PvgZaYNWU_tP"
      },
      "execution_count": null,
      "outputs": []
    },
    {
      "cell_type": "markdown",
      "source": [
        "### Dataset Loading"
      ],
      "metadata": {
        "id": "3RnN4peoiCZX"
      }
    },
    {
      "cell_type": "code",
      "source": [
        "# Load Dataset\n",
        "from google.colab import drive\n",
        "drive.mount(\"/content/drive/\")\n"
      ],
      "metadata": {
        "id": "f1rfArKJp_w9"
      },
      "execution_count": null,
      "outputs": []
    },
    {
      "cell_type": "code",
      "source": [
        "path = '/content/drive/MyDrive/dat'\n",
        "\n",
        "# Global Terrorism file was unable to load in pandas dataframe , as its encoding was wrong.\n",
        "# So I manually changed it, and used the following encoding,in order to load the dataset in pandas dataframe.\n",
        "\n",
        "data=pd.read_csv('/content/drive/MyDrive/Global Terrorism Data (1).csv', encoding='ISO-8859-1')"
      ],
      "metadata": {
        "id": "BWyGrM3lVcjj"
      },
      "execution_count": null,
      "outputs": []
    },
    {
      "cell_type": "markdown",
      "source": [
        "### Dataset First View"
      ],
      "metadata": {
        "id": "x71ZqKXriCWQ"
      }
    },
    {
      "cell_type": "code",
      "source": [
        "# Dataset First Look\n",
        "data.head()"
      ],
      "metadata": {
        "id": "LWNFOSvLl09H"
      },
      "execution_count": null,
      "outputs": []
    },
    {
      "cell_type": "markdown",
      "source": [
        "### Dataset Rows & Columns count"
      ],
      "metadata": {
        "id": "7hBIi_osiCS2"
      }
    },
    {
      "cell_type": "code",
      "source": [
        "# Dataset Rows & Columns count\n",
        "data.shape"
      ],
      "metadata": {
        "id": "Kllu7SJgmLij"
      },
      "execution_count": null,
      "outputs": []
    },
    {
      "cell_type": "markdown",
      "source": [
        "### Dataset Information"
      ],
      "metadata": {
        "id": "JlHwYmJAmNHm"
      }
    },
    {
      "cell_type": "code",
      "source": [
        "# Dataset Info\n",
        "data.info(2)"
      ],
      "metadata": {
        "id": "e9hRXRi6meOf"
      },
      "execution_count": null,
      "outputs": []
    },
    {
      "cell_type": "markdown",
      "source": [
        "#### Duplicate Values"
      ],
      "metadata": {
        "id": "35m5QtbWiB9F"
      }
    },
    {
      "cell_type": "code",
      "source": [
        "# Dataset Duplicate Value Count\n"
      ],
      "metadata": {
        "id": "1sLdpKYkmox0"
      },
      "execution_count": null,
      "outputs": []
    },
    {
      "cell_type": "code",
      "source": [
        "data.duplicated().sum()"
      ],
      "metadata": {
        "id": "1cY8htixzS2i"
      },
      "execution_count": null,
      "outputs": []
    },
    {
      "cell_type": "code",
      "source": [
        "print(f' We have {data.duplicated().sum()} duplicate values in dataset.')"
      ],
      "metadata": {
        "id": "ShIHWkh8KvLt"
      },
      "execution_count": null,
      "outputs": []
    },
    {
      "cell_type": "markdown",
      "source": [
        "#### Missing Values/Null Values"
      ],
      "metadata": {
        "id": "PoPl-ycgm1ru"
      }
    },
    {
      "cell_type": "code",
      "source": [
        "(data.isnull()).sum()"
      ],
      "metadata": {
        "id": "qA83Gr4nWqpd"
      },
      "execution_count": null,
      "outputs": []
    },
    {
      "cell_type": "markdown",
      "source": [
        "Heatmap\n"
      ],
      "metadata": {
        "id": "rkJT6a9lyHgZ"
      }
    },
    {
      "cell_type": "code",
      "source": [
        "sns.heatmap(data.isnull())"
      ],
      "metadata": {
        "id": "F58C85rhyKc8"
      },
      "execution_count": null,
      "outputs": []
    },
    {
      "cell_type": "markdown",
      "source": [
        "### What did you know about your dataset?"
      ],
      "metadata": {
        "id": "H0kj-8xxnORC"
      }
    },
    {
      "cell_type": "markdown",
      "source": [
        "In the given Dataset, many columns consist null values but those columns on which the EDA have been conducted or questions have been analysed do not contain the problem of null values. For E.g 'nkill' column which consist number of kills doesn't contain null values."
      ],
      "metadata": {
        "id": "gfoNAAC-nUe_"
      }
    },
    {
      "cell_type": "markdown",
      "source": [
        "## ***2. Understanding Your Variables***"
      ],
      "metadata": {
        "id": "nA9Y7ga8ng1Z"
      }
    },
    {
      "cell_type": "code",
      "source": [
        "# Dataset Columns\n",
        "data.columns"
      ],
      "metadata": {
        "id": "dpSAMnbKmyEy"
      },
      "execution_count": null,
      "outputs": []
    },
    {
      "cell_type": "code",
      "source": [
        "# Dataset Describe\n",
        "data.describe"
      ],
      "metadata": {
        "id": "DnOaZdaE5Q5t"
      },
      "execution_count": null,
      "outputs": []
    },
    {
      "cell_type": "markdown",
      "source": [
        "### Variables Description"
      ],
      "metadata": {
        "id": "PBTbrJXOngz2"
      }
    },
    {
      "cell_type": "code",
      "source": [
        "data.describe()"
      ],
      "metadata": {
        "id": "55k6eT0HzhSH"
      },
      "execution_count": null,
      "outputs": []
    },
    {
      "cell_type": "markdown",
      "source": [
        "### Check Unique Values for each variable."
      ],
      "metadata": {
        "id": "u3PMJOP6ngxN"
      }
    },
    {
      "cell_type": "code",
      "source": [
        "# Check Unique Values for each variable.\n",
        "variables_df = data.columns.to_list()"
      ],
      "metadata": {
        "id": "iyW6FgXjzxqr"
      },
      "execution_count": null,
      "outputs": []
    },
    {
      "cell_type": "code",
      "source": [
        "for i in variables_df:\n",
        "  print('The Unique Values of', i, 'are:', data[i].unique())"
      ],
      "metadata": {
        "id": "-2HxQRjcAGH8"
      },
      "execution_count": null,
      "outputs": []
    },
    {
      "cell_type": "markdown",
      "source": [
        "## 3. ***Data Wrangling***"
      ],
      "metadata": {
        "id": "dauF4eBmngu3"
      }
    },
    {
      "cell_type": "markdown",
      "source": [
        "### Data Wrangling Code"
      ],
      "metadata": {
        "id": "bKJF3rekwFvQ"
      }
    },
    {
      "cell_type": "code",
      "source": [
        "# Write your code to make your dataset analysis ready."
      ],
      "metadata": {
        "id": "wk-9a2fpoLcV"
      },
      "execution_count": null,
      "outputs": []
    },
    {
      "cell_type": "code",
      "source": [
        "# filtering out the columns we need\n",
        "sub_df = data[['eventid','iyear','imonth','country_txt','region_txt','city','attacktype1_txt','targtype1_txt','nkill','weapdetail','nwound','gname','provstate']].copy()"
      ],
      "metadata": {
        "id": "7dB3TwXPBvKH"
      },
      "execution_count": null,
      "outputs": []
    },
    {
      "cell_type": "code",
      "source": [
        "#renaming the columns\n",
        "sub_df.rename(columns = {'imonth':'month','eventid':'id','iyear':'year','country_txt':'country','region_txt':'region','attacktype1_txt':'attack_type','targtype1_txt':'target_type','nkill':'total_kills','nwound':'total_wounds','gname':'terrorist_group'},inplace=True)"
      ],
      "metadata": {
        "id": "Qdtvq5WLB_AB"
      },
      "execution_count": null,
      "outputs": []
    },
    {
      "cell_type": "code",
      "source": [
        "sub_df.head()"
      ],
      "metadata": {
        "id": "QiNcRTCyCGV_"
      },
      "execution_count": null,
      "outputs": []
    },
    {
      "cell_type": "markdown",
      "source": [
        "### What all manipulations have you done and insights you found?"
      ],
      "metadata": {
        "id": "MSa1f5Uengrz"
      }
    },
    {
      "cell_type": "markdown",
      "source": [
        "Here we had a dataset with columns name which were not readable so we changed their names to readable, also we have had 135 columns and out of those 135 columns, many columns were full of null values so picked columns which have no null values and based on those columns we will do our Exploratory data analysis."
      ],
      "metadata": {
        "id": "aK-YXI-UDckp"
      }
    },
    {
      "cell_type": "markdown",
      "source": [
        "## ***4. Data Vizualization, Storytelling & Experimenting with charts : Understand the relationships between variables***"
      ],
      "metadata": {
        "id": "GF8Ens_Soomf"
      }
    },
    {
      "cell_type": "markdown",
      "source": [
        "#### Chart - 1"
      ],
      "metadata": {
        "id": "0wOQAZs5pc--"
      }
    },
    {
      "cell_type": "markdown",
      "source": [
        "#  Year wise  Terrorist Attack in the world"
      ],
      "metadata": {
        "id": "vdTjVZdazVzq"
      }
    },
    {
      "cell_type": "code",
      "source": [
        "# checking if we have any null value\n",
        "sub_df['year'].isna().sum()"
      ],
      "metadata": {
        "id": "aj5NUtnPDe4j"
      },
      "execution_count": null,
      "outputs": []
    },
    {
      "cell_type": "code",
      "source": [
        "# grouping by attacks\n",
        "attacks_per_year=sub_df.groupby('year').agg({'year':'count'}).rename(columns={'year':'no_of_attacks'})"
      ],
      "metadata": {
        "id": "iQOUKN84DsPo"
      },
      "execution_count": null,
      "outputs": []
    },
    {
      "cell_type": "code",
      "source": [
        "#Setting the figure size to be displayed as (22,8)\n",
        "plt.rcParams['figure.figsize'] = (22, 8)\n",
        "\n",
        "#Plotting a line graph with circular markers, 'C2' specifies the color.\n",
        "attacks_per_year.plot(zorder=5,color='C2', marker='o')\n",
        "\n",
        "#Plotting a bar graph with 'attacks_per_year.index' on the x-axis and 'attacks_per_year.no_of_attacks' on the y-axis.\n",
        "plt.bar(attacks_per_year.index,attacks_per_year.no_of_attacks)\n",
        "\n",
        "#Setting the title of the graph\n",
        "plt.title('Terrorist Attacks Worldwide by Year [1970-2017]',fontsize=20,fontweight='bold')\n",
        "\n",
        "#Setting the label for the x-axis.\n",
        "plt.xlabel('Year',fontsize=16)\n",
        "\n",
        "#Setting the label for the y-axis.\n",
        "plt.ylabel('No. of Attacks',fontsize=16)\n",
        "\n",
        "#Setting the ticks on the x-axis as the index of 'attacks_per_year' and rotating them by 90 degrees.\n",
        "plt.xticks(attacks_per_year.index,rotation=90)\n",
        "\n",
        "#Displaying the graph.\n",
        "plt.show()"
      ],
      "metadata": {
        "id": "GjW2-XMVwPpL"
      },
      "execution_count": null,
      "outputs": []
    },
    {
      "cell_type": "markdown",
      "source": [
        "#  The top five years with the most number of terrorist attacks-"
      ],
      "metadata": {
        "id": "mXTsjVUXD4iS"
      }
    },
    {
      "cell_type": "code",
      "source": [
        "attacks_per_year.nlargest(5,'no_of_attacks')"
      ],
      "metadata": {
        "id": "sELpl6pyEBwY"
      },
      "execution_count": null,
      "outputs": []
    },
    {
      "cell_type": "markdown",
      "source": [
        "##### 1. Why did you pick the specific chart?"
      ],
      "metadata": {
        "id": "K5QZ13OEpz2H"
      }
    },
    {
      "cell_type": "markdown",
      "source": [
        "* Because it is easy to visualize  catagorical data in bar graph."
      ],
      "metadata": {
        "id": "XESiWehPqBRc"
      }
    },
    {
      "cell_type": "markdown",
      "source": [
        "##### 2. What is/are the insight(s) found from the chart?"
      ],
      "metadata": {
        "id": "lQ7QKXXCp7Bj"
      }
    },
    {
      "cell_type": "markdown",
      "source": [
        "*  2014 has been the year with most number of attacks i.e 16903 attacks\n",
        "*  There is continous decrease in number of terrorist attacks after 2014.\n",
        "*  chart shows highest numberof terrorist attacks in last 10 years."
      ],
      "metadata": {
        "id": "C_j1G7yiqdRP"
      }
    },
    {
      "cell_type": "markdown",
      "source": [
        "##### 3. Will the gained insights help creating a positive business impact?\n",
        "Are there any insights that lead to negative growth? Justify with specific reason."
      ],
      "metadata": {
        "id": "448CDAPjqfQr"
      }
    },
    {
      "cell_type": "markdown",
      "source": [
        "Yes, it helps us to analyse the past trends and do business accordingly."
      ],
      "metadata": {
        "id": "3cspy4FjqxJW"
      }
    },
    {
      "cell_type": "markdown",
      "source": [
        "#### Chart - 2"
      ],
      "metadata": {
        "id": "KSlN3yHqYklG"
      }
    },
    {
      "cell_type": "markdown",
      "source": [
        "#  Attacks from Year 1970-2017 in Each country"
      ],
      "metadata": {
        "id": "Psr-5nWYEIc4"
      }
    },
    {
      "cell_type": "code",
      "source": [
        "#Here we are creating a new dataframe called country_df which is a subset of sub_df containing only the columns 'country', 'total_kills' and 'terrorist_group'\n",
        "country_df = sub_df[['country', 'total_kills', 'terrorist_group']].copy()\n",
        "\n",
        "'''We group the country_df by 'country' column, and aggregate the number of times a country appears using count() function\n",
        "We then rename the column to 'total_attacks' and retrieve the 10 countries with the largest number of attacks'''\n",
        "\n",
        "country_wise = country_df.groupby('country').agg({'country': 'count'}).rename(columns={'country': 'total_attacks'}).nlargest(10, 'total_attacks').reset_index().sort_values('total_attacks', ascending=False)"
      ],
      "metadata": {
        "id": "UqZtiIkpwie_"
      },
      "execution_count": null,
      "outputs": []
    },
    {
      "cell_type": "code",
      "source": [
        "# Set the figure size to 15 inches by 7 inches\n",
        "plt.rcParams['figure.figsize']=(15,7)\n",
        "\n",
        "# Set the font scale for Seaborn plots to 1.3\n",
        "sns.set(font_scale=1.3)\n",
        "\n",
        "# Set the style of the grid to \"whitegrid\"\n",
        "sns.set_style(\"whitegrid\")\n",
        "\n",
        "# Create a bar plot using Seaborn with 'total_attacks' on the x-axis, 'country' on the y-axis, using the 'mako' color palette and assign it to variable 'l'\n",
        "l=sns.barplot(x='total_attacks',y='country',data=country_wise,palette='mako')\n",
        "\n",
        "# Set the title of the plot to 'Country Wise Terrorist Attack - Year 1970-2017', with a font size of 25 and bold font weight\n",
        "l.set_title(\"Country Wise Terrorist Attack   - Year 1970-2017\",fontsize=25,fontweight='bold')\n",
        "\n",
        "# Set the label of the x-axis to 'Total Attacks' with a font size of 20\n",
        "l.set_xlabel('Total Attacks',fontsize=20)\n",
        "\n",
        "# Set the label of the y-axis to 'Country' with a font size of 20\n",
        "l.set_ylabel('Country',fontsize=20)\n"
      ],
      "metadata": {
        "id": "ipe7dBMYxMQp"
      },
      "execution_count": null,
      "outputs": []
    },
    {
      "cell_type": "markdown",
      "source": [
        "##### 1. Why did you pick the specific chart?"
      ],
      "metadata": {
        "id": "t6dVpIINYklI"
      }
    },
    {
      "cell_type": "markdown",
      "source": [
        "It is easy to formulate data in different catagories"
      ],
      "metadata": {
        "id": "5aaW0BYyYklI"
      }
    },
    {
      "cell_type": "markdown",
      "source": [
        "##### 2. What is/are the insight(s) found from the chart?"
      ],
      "metadata": {
        "id": "ijmpgYnKYklI"
      }
    },
    {
      "cell_type": "markdown",
      "source": [
        "* Iraq witnessed highest number of terrorist attacts folllowed by Pakistan ,Afghanistan and india.\n",
        "* Turkey  least vulnerable of terrorist attacks among all.\n",
        "* south Asia is moree vulnerable in terrorist attacks."
      ],
      "metadata": {
        "id": "9zVMi2Mye5DA"
      }
    },
    {
      "cell_type": "markdown",
      "source": [
        "Answer Here"
      ],
      "metadata": {
        "id": "PSx9atu2YklI"
      }
    },
    {
      "cell_type": "markdown",
      "source": [
        "##### 3. Will the gained insights help creating a positive business impact?\n",
        "Are there any insights that lead to negative growth? Justify with specific reason."
      ],
      "metadata": {
        "id": "-JiQyfWJYklI"
      }
    },
    {
      "cell_type": "markdown",
      "source": [
        "* yes, it  helps us to choose  business destinations that are least prone to terrorist attacks"
      ],
      "metadata": {
        "id": "BcBbebzrYklV"
      }
    },
    {
      "cell_type": "markdown",
      "source": [
        "#### Chart - 3"
      ],
      "metadata": {
        "id": "EM7whBJCYoAo"
      }
    },
    {
      "cell_type": "markdown",
      "source": [
        "# Number of Attacks done in every country each year"
      ],
      "metadata": {
        "id": "6zIZg-5EFOLk"
      }
    },
    {
      "cell_type": "code",
      "source": [
        "# Select rows with year greater than 2007 for country and year columns\n",
        "country_df = sub_df[sub_df['year'] > 2007][[\"country\",\"year\"]].copy()\n",
        "\n",
        "# Group by country and year, count number of attacks per country and year, and sort by country and year in descending order\n",
        "country_wise = country_df.groupby(['country','year']).agg({'country':'count'}).rename(columns={'country':'total_attacks'}).sort_values(['country','year'], ascending=[True,False])\n",
        "\n",
        "# Reset the index to turn the grouped columns back into regular columns\n",
        "country_wise.reset_index(inplace=True)\n",
        "\n",
        "# Group by country and sum the number of attacks per country, and select the top 10 countries with the largest number of attacks\n",
        "total_attacks_country = country_wise.groupby(\"country\").agg({'total_attacks':'sum'}).nlargest(10,\"total_attacks\")\n",
        "\n",
        "# Select country and year columns from sub_df\n",
        "country_df = sub_df[['country','year']].copy()\n",
        "\n",
        "# Group by country and year, count number of attacks per country and year, and sort by country and year in descending order\n",
        "country_wise = country_df.groupby(['country','year']).agg({'country':'count'}).rename(columns={'country':'total_attacks'}).sort_values(['country','year'], ascending=[True,False])\n",
        "\n",
        "# Reshape the table by making the year values the column headers\n",
        "Country_final = country_wise.unstack().T\n",
        "\n",
        "# Replace missing values with 0\n",
        "Country_final.fillna(0, inplace=True)\n",
        "\n",
        "# Reset the index to turn the grouped columns back into regular columns\n",
        "Country_final.reset_index(inplace=True)\n",
        "\n",
        "# Select only the rows with year greater than 2007, and columns for the top 10 countries with the largest number of attacks\n",
        "Country_final_final = Country_final.loc[Country_final.year > 2007,[\"year\",\"Iraq\",\"Pakistan\",'Afghanistan','India','Philippines','Somalia','Nigeria','Yemen','Thailand','Libya']]\n",
        "\n",
        "# Set the size of the plot figure\n",
        "plt.rcParams[\"figure.figsize\"] = (20,8)\n",
        "\n",
        "# Plot the number of attacks for each country by year, with a circle marker for each data point and a label for each country\n",
        "plt.plot(Country_final_final.year, Country_final_final.Iraq, marker='o', label=\"Iraq\")\n",
        "plt.plot(Country_final_final.year, Country_final_final.Pakistan, marker='o', label=\"Pakistan\")\n",
        "plt.plot(Country_final_final.year, Country_final_final.Afghanistan, marker='o', label=\"Afghanistan\")\n",
        "plt.plot(Country_final_final.year, Country_final_final.India, marker='o', label=\"India\")\n",
        "plt.plot(Country_final_final.year, Country_final_final.Philippines, marker='o', label=\"Philippines\")\n",
        "plt.plot(Country_final_final.year, Country_final_final.Somalia, marker='o', label=\"Somalia\")\n",
        "plt.plot(Country_final_final.year, Country_final_final.Nigeria, marker='o', label=\"Nigeria\")\n",
        "plt.plot(Country_final_final.year, Country_final_final[\"Yemen\"], marker='o', label=\"Yemen\")\n",
        "plt.plot(Country_final_final.year, Country_final_final[\"Thailand\"], marker='o', label=\"Thailand\")\n",
        "plt.plot(Country_final_final.year, Country_final_final.Libya, marker='o', label=\"Libya\")\n",
        "\n",
        "# Set the x and y axis labels and the title of the plot\n",
        "plt.xlabel(\"Year\", fontsize=18)\n",
        "plt.ylabel(\"No. of Attacks\", fontsize=18)\n",
        "plt.title(\"No. of Attacks in Each Country From Year 2008-2017\", fontsize=25, fontweight='bold')\n",
        "\n",
        "# Add a legend to the plot\n",
        "plt.legend()\n",
        "plt.show()\n"
      ],
      "metadata": {
        "id": "n81jGhS1x62m"
      },
      "execution_count": null,
      "outputs": []
    },
    {
      "cell_type": "markdown",
      "source": [
        "##### 1. Why did you pick the specific chart?"
      ],
      "metadata": {
        "id": "fge-S5ZAYoAp"
      }
    },
    {
      "cell_type": "markdown",
      "source": [
        "It is esys to analyze trend of  data over time in single chart"
      ],
      "metadata": {
        "id": "5dBItgRVYoAp"
      }
    },
    {
      "cell_type": "markdown",
      "source": [
        "##### 2. What is/are the insight(s) found from the chart?"
      ],
      "metadata": {
        "id": "85gYPyotYoAp"
      }
    },
    {
      "cell_type": "markdown",
      "source": [
        "* From 2008 till 2012 attacks were executed on the constant rate each year in the countries but after 2012 we have seen the rapid rise in the no. of events in Iraq and decline in the rate of the events in Pakistan from 2014."
      ],
      "metadata": {
        "id": "4jstXR6OYoAp"
      }
    },
    {
      "cell_type": "markdown",
      "source": [
        "##### 3. Will the gained insights help creating a positive business impact?\n",
        "Are there any insights that lead to negative growth? Justify with specific reason."
      ],
      "metadata": {
        "id": "RoGjAbkUYoAp"
      }
    },
    {
      "cell_type": "markdown",
      "source": [
        "* Yes, it will help in business growth."
      ],
      "metadata": {
        "id": "zfJ8IqMcYoAp"
      }
    },
    {
      "cell_type": "markdown",
      "source": [
        "#### Chart - 4"
      ],
      "metadata": {
        "id": "4Of9eVA-YrdM"
      }
    },
    {
      "cell_type": "markdown",
      "source": [
        "#  Most active terrorist group in a decade."
      ],
      "metadata": {
        "id": "jDH1OlCoFaDa"
      }
    },
    {
      "cell_type": "code",
      "source": [
        "'''Create a new dataframe with only the 'year' and 'terrorist_group' columns from a subset of the original dataframe 'sub_df' '''\n",
        "t_group_1 = sub_df[['year', 'terrorist_group']].copy()\n",
        "\n",
        "'''Create a new dataframe by copying only those rows from 't_group_1' where the 'terrorist_group' is not 'Unknown' '''\n",
        "t_group = t_group_1[t_group_1.terrorist_group != 'Unknown'].copy()\n",
        "\n",
        "'''Convert the 'year' column to a datetime format, using the '%Y' format code to specify the year, and then convert it to a 'datetime64[Y]' format, which represents the year as a datetime object'''\n",
        "t_group.year = pd.to_datetime(t_group.year, format='%Y').astype('datetime64[Y]')"
      ],
      "metadata": {
        "id": "nGZAhvcXyf9L"
      },
      "execution_count": null,
      "outputs": []
    },
    {
      "cell_type": "code",
      "source": [
        "type(t_group['year'][0])"
      ],
      "metadata": {
        "id": "eSgAWzePFAZS"
      },
      "execution_count": null,
      "outputs": []
    },
    {
      "cell_type": "code",
      "source": [
        "'''Resample the 't_group' DataFrame by 10-year intervals'''\n",
        "t_group = t_group.resample('10A', on='year')\n",
        "\n",
        "'''For each interval, extract the most common terrorist group using the 'mode' function\n",
        "and store it in a new DataFrame'''\n",
        "t_group = t_group['terrorist_group'].apply(lambda x: x.mode().loc[0])\n",
        "\n",
        "'''Reset the index of the new DataFrame to have 'year' as a column'''\n",
        "t_group = t_group.reset_index()"
      ],
      "metadata": {
        "id": "f8hCf0p9zKL4"
      },
      "execution_count": null,
      "outputs": []
    },
    {
      "cell_type": "code",
      "source": [
        "# This line is creating a copy of the pandas DataFrame called \"t_group\"\n",
        "# using the .loc method to select rows 1 to the end of the DataFrame\n",
        "# and assigning it to the same variable \"t_group\"\n",
        "t_group=t_group.loc[1:,:].copy()"
      ],
      "metadata": {
        "id": "_Lmwr8_q0J7B"
      },
      "execution_count": null,
      "outputs": []
    },
    {
      "cell_type": "code",
      "source": [
        "# This code is updating the 'year' column in the t_group dataframe based on a given range for each row.\n",
        "t_group.loc[1,'year']='1971-1980'\n",
        "t_group.loc[2,'year']='1981-1990'\n",
        "t_group.loc[3,'year']='1991-2000'\n",
        "t_group.loc[4,'year']='2001-2010'\n",
        "t_group.loc[5,'year']='2011-2017'\n",
        "\n",
        "# This code is creating a copy of a subset of data containing only the 'year' and 'terrorist_group' columns.\n",
        "t1_group_=sub_df[['year','terrorist_group']].copy()\n",
        "\n",
        "# This code is creating a copy of the t1_group dataframe while excluding rows where the 'terrorist_group' is listed as 'Unknown'.\n",
        "t1_group=t1_group_[t1_group_.terrorist_group!='Unknown'].copy()\n",
        "\n",
        "# This code is grouping the t1_group dataframe by 'year' and 'terrorist_group' and then counting the number of attacks for each 'terrorist_group' within each 'year'.\n",
        "x=t1_group.groupby('year').agg({'terrorist_group':'value_counts'})\n",
        "\n",
        "# This code is renaming the 'terrorist_group' column to 'no_of_attack', resetting the index, and selecting only the first three rows.\n",
        "z=x.rename(columns={'terrorist_group':'no_of_attack'}).reset_index()\n",
        "z.head(3)"
      ],
      "metadata": {
        "id": "zcpaMlD2z9_v"
      },
      "execution_count": null,
      "outputs": []
    },
    {
      "cell_type": "code",
      "source": [
        "# The following code selects attacks from a given time period and groups them by terrorist group,\n",
        "# then calculates the total number of attacks by each group and selects the group with the largest number of attacks.\n",
        "\n",
        "# Selecting attacks between 1971 and 1980.\n",
        "s1=z[(z.year>1970) &(z.year<1981)]\n",
        "\n",
        "# Grouping the attacks by terrorist group and aggregating the sum of attacks for each group.\n",
        "# Selecting the group with the largest number of attacks.\n",
        "s1.groupby('terrorist_group').agg({'no_of_attack':'sum'}).nlargest(1,'no_of_attack')\n",
        "\n",
        "# Repeating the same steps for other time periods.\n",
        "# Selecting attacks between 1981 and 1990.\n",
        "s2=z[(z.year>1980) &(z.year<1991)]\n",
        "s2.groupby('terrorist_group').agg({'no_of_attack':'sum'}).nlargest(1,'no_of_attack')\n",
        "\n",
        "# Selecting attacks between 1991 and 2000.\n",
        "s3=z[(z.year>1990) &(z.year<2001)]\n",
        "s3.groupby('terrorist_group').agg({'no_of_attack':'sum'}).nlargest(1,'no_of_attack')\n",
        "\n",
        "# Selecting attacks between 2001 and 2010.\n",
        "s4=z[(z.year>2000) &(z.year<2011)]\n",
        "s4.groupby('terrorist_group').agg({'no_of_attack':'sum'}).nlargest(1,'no_of_attack')\n",
        "\n",
        "# Selecting attacks between 2011 and 2017.\n",
        "s5=z[(z.year>2011) &(z.year<2018)]\n",
        "s5.groupby('terrorist_group').agg({'no_of_attack':'sum'}).nlargest(1,'no_of_attack')\n",
        "\n",
        "# Creating a list of integers.\n",
        "list_=[1112,3592,884,1442,5818]"
      ],
      "metadata": {
        "id": "05BOTD2q0iXG"
      },
      "execution_count": null,
      "outputs": []
    },
    {
      "cell_type": "code",
      "source": [
        "# This line creates a new key called 'no_of_attacks' in the dictionary t_group\n",
        "# and assigns it a value of the empty list.\n",
        "\n",
        "t_group['no_of_attacks'] = list_\n",
        "\n",
        "# This line assigns the variable list_ to the new key 'no_of_attacks' in the dictionary t_group.\n",
        "# This is done so that we can later add values to the list associated with 'no_of_attacks'."
      ],
      "metadata": {
        "id": "MLrYiLPx0tl0"
      },
      "execution_count": null,
      "outputs": []
    },
    {
      "cell_type": "code",
      "source": [
        "t_group"
      ],
      "metadata": {
        "id": "fWoBcEpwF8wQ"
      },
      "execution_count": null,
      "outputs": []
    },
    {
      "cell_type": "code",
      "source": [
        "# Set the size of the figure\n",
        "plt.rcParams[\"figure.figsize\"] = (18,10)\n",
        "\n",
        "# Plot the first data point for Irish Republican Army\n",
        "plt.plot(t_group.loc[1,\"year\"], t_group.loc[1,\"no_of_attacks\"], marker = 'o', label = \"Irish Republican Army\",markersize=20)\n",
        "\n",
        "# Plot the second data point for Shining Path (SL)\n",
        "plt.plot(t_group.loc[2,\"year\"], t_group.loc[2,\"no_of_attacks\"], marker = 'o', label = \"Shining Path (SL)\",markersize=20,markerfacecolor='orange')\n",
        "\n",
        "# Plot the third data point for Shining Path (SL)\n",
        "plt.plot(t_group.loc[3,\"year\"], t_group.loc[3,\"no_of_attacks\"], marker = 'o', label = \"Shining Path (SL)\",markersize=20,markerfacecolor='orange')\n",
        "\n",
        "# Plot the fourth data point for Taliban\n",
        "plt.plot(t_group.loc[4,\"year\"], t_group.loc[4,\"no_of_attacks\"], marker = 'o', label = \"Taliban\",markersize=20,markerfacecolor='blue')\n",
        "\n",
        "# Plot the fifth data point for Taliban\n",
        "plt.plot(t_group.loc[5,\"year\"], t_group.loc[5,\"no_of_attacks\"], marker = 'o', label = \"Taliban\",markersize=20,markerfacecolor='blue')\n",
        "\n",
        "# Add a title to the plot\n",
        "plt.title('Deadliest Terrorist Group in a Decade',fontsize=22,fontweight='bold')\n",
        "\n",
        "# Add a label to the x-axis\n",
        "plt.xlabel('Decade',fontsize=18)\n",
        "\n",
        "# Add a label to the y-axis\n",
        "plt.ylabel('No. of Attacks',fontsize=18)\n",
        "\n",
        "# Add a legend to the plot\n",
        "plt.legend()\n",
        "\n",
        "# Show the plot\n",
        "plt.show()"
      ],
      "metadata": {
        "id": "PigdGxL8093g"
      },
      "execution_count": null,
      "outputs": []
    },
    {
      "cell_type": "markdown",
      "source": [
        "##### 1. Why did you pick the specific chart?"
      ],
      "metadata": {
        "id": "iky9q4vBYrdO"
      }
    },
    {
      "cell_type": "markdown",
      "source": [
        "* Easy to understand the attacks of different groups over time."
      ],
      "metadata": {
        "id": "aJRCwT6DYrdO"
      }
    },
    {
      "cell_type": "markdown",
      "source": [
        "##### 2. What is/are the insight(s) found from the chart?"
      ],
      "metadata": {
        "id": "F6T5p64dYrdO"
      }
    },
    {
      "cell_type": "markdown",
      "source": [
        "* Taliban is the most Deadliest terrorist group in  last two decade.\n",
        "* Shining path(SL) was most deadlist terrorist group between 1981-1990.\n",
        "* The Chart shows south  Asia is most breading ground for taliban especially in Afhanistan and India."
      ],
      "metadata": {
        "id": "Xx8WAJvtYrdO"
      }
    },
    {
      "cell_type": "markdown",
      "source": [
        "##### 3. Will the gained insights help creating a positive business impact?\n",
        "Are there any insights that lead to negative growth? Justify with specific reason."
      ],
      "metadata": {
        "id": "y-Ehk30pYrdP"
      }
    },
    {
      "cell_type": "markdown",
      "source": [
        "Yes helps in business growth in future"
      ],
      "metadata": {
        "id": "jLNxxz7MYrdP"
      }
    },
    {
      "cell_type": "markdown",
      "source": [
        "#### Chart - 5"
      ],
      "metadata": {
        "id": "bamQiAODYuh1"
      }
    },
    {
      "cell_type": "markdown",
      "source": [
        "## Type of attacks executed by the Terrorist Groups and their percentage   in the world from 1970 to 2017"
      ],
      "metadata": {
        "id": "uHTc4ol4Hnre"
      }
    },
    {
      "cell_type": "code",
      "source": [
        "# create a new column called 'attack_type' in the sub_df dataframe\n",
        "# apply a lambda function to change any attack type that is not in the specified list to 'Others'\n",
        "sub_df[\"attack_type\"] = sub_df['attack_type'].apply(lambda x: x if x in ['Assassination', 'Hostage Taking (Kidnapping)',\n",
        "                                                                          'Bombing/Explosion', 'Facility/Infrastructure Attack',\n",
        "                                                                          'Armed Assault', 'Hijacking','Unarmed Assault',\n",
        "                                                                          'Hostage Taking (Barricade Incident)'] else 'Others')\n",
        "\n",
        "# group the sub_df dataframe by the 'attack_type' column\n",
        "# calculate the size of each group and create a new dataframe called g\n",
        "g = sub_df.groupby(\"attack_type\").size().reset_index(name=\"count\")\n",
        "\n",
        "# calculate the total number of hostage-taking incidents by adding up the counts for two types of hostage-taking attacks\n",
        "hostage_count = g.loc[5,\"count\"] + g.loc[6,\"count\"]\n",
        "\n",
        "# add the count for three types of attacks (Armed Assault, Hijacking, and Hostage Taking (Barricade Incident)) and\n",
        "# store the sum in the row of the 'Others' category\n",
        "g.loc[7,\"count\"] = g.loc[7,\"count\"] + g.loc[4,\"count\"] + g.loc[8,\"count\"]\n",
        "\n",
        "# drop rows 4, 5, 6, and 8 from the g dataframe\n",
        "g = g.drop([4,5,6,8])\n",
        "\n",
        "# reset the index of the g dataframe\n",
        "g.reset_index(inplace=True)\n",
        "\n",
        "# create a list of labels for the pie chart\n",
        "my_labels = [\"Armed Assault\", \"Assassination\", \"Bombing/Explosion\", \"Facility/Infrastructure Attack\", \"Others\"]\n",
        "\n",
        "# set the percentage of the 'Bombing/Explosion' category to be exploded\n",
        "explode = [0,0,0.05,0,0]\n",
        "\n",
        "# set the figure size and font size\n",
        "plt.rcParams['figure.figsize']=(18,10)\n",
        "mpl.rcParams['font.size'] = 20.0\n",
        "\n",
        "# create a pie chart of the attack types in the g dataframe\n",
        "# label each slice with its corresponding label in the my_labels list\n",
        "# explode the 'Bombing/Explosion' category\n",
        "# add a shadow to the chart and show the percentage of each slice\n",
        "# set the title and make the chart circular\n",
        "plt.pie(g[\"count\"], labels=my_labels, explode=explode, shadow=True, autopct='%1.1f%%')\n",
        "plt.title('Type of Attacks in World')\n",
        "plt.axis('equal')\n",
        "plt.show()\n"
      ],
      "metadata": {
        "id": "JAANHTgf2dRh"
      },
      "execution_count": null,
      "outputs": []
    },
    {
      "cell_type": "markdown",
      "source": [
        "##### 1. Why did you pick the specific chart?"
      ],
      "metadata": {
        "id": "QHF8YVU7Yuh3"
      }
    },
    {
      "cell_type": "markdown",
      "source": [
        "* It is easys to catagorise all catagories in single graph"
      ],
      "metadata": {
        "id": "dcxuIMRPYuh3"
      }
    },
    {
      "cell_type": "markdown",
      "source": [
        "##### 2. What is/are the insight(s) found from the chart?"
      ],
      "metadata": {
        "id": "GwzvFGzlYuh3"
      }
    },
    {
      "cell_type": "markdown",
      "source": [
        "*  Bombing & Explosions are the most dangerous type of attack used by the Terrorist Groups to do damage in the countries around the World followed by Armed Assault and Assassination."
      ],
      "metadata": {
        "id": "uyqkiB8YYuh3"
      }
    },
    {
      "cell_type": "markdown",
      "source": [
        "##### 3. Will the gained insights help creating a positive business impact?\n",
        "Are there any insights that lead to negative growth? Justify with specific reason."
      ],
      "metadata": {
        "id": "qYpmQ266Yuh3"
      }
    },
    {
      "cell_type": "markdown",
      "source": [
        "Yes, it help us to build business insatallations attack resilient"
      ],
      "metadata": {
        "id": "_WtzZ_hCYuh4"
      }
    },
    {
      "cell_type": "markdown",
      "source": [
        "#### Chart - 6"
      ],
      "metadata": {
        "id": "OH-pJp9IphqM"
      }
    },
    {
      "cell_type": "markdown",
      "source": [
        "#  Attacks in different regions for Years 1970-2017"
      ],
      "metadata": {
        "id": "N0ZJCSq7GaU5"
      }
    },
    {
      "cell_type": "code",
      "source": [
        "#checking for the null values\n",
        "sub_df[sub_df['total_kills'].isna()]['total_kills'].sum()"
      ],
      "metadata": {
        "id": "rzZIp-fEGkEa"
      },
      "execution_count": null,
      "outputs": []
    },
    {
      "cell_type": "code",
      "source": [
        "region_attacks=sub_df[['id','region']]"
      ],
      "metadata": {
        "id": "EkigITQ2Gmws"
      },
      "execution_count": null,
      "outputs": []
    },
    {
      "cell_type": "code",
      "source": [
        "# We are creating a new dataframe named region_wise by grouping the 'region_attacks' dataframe by the 'region' column\n",
        "region_wise = region_attacks.groupby('region').agg({'id':'count'})\n",
        "\n",
        "# We are renaming the 'id' column to 'total_attacks'\n",
        "region_wise = region_wise.rename(columns={'id':'total_attacks'})\n",
        "\n",
        "# We are resetting the index of the dataframe so that the grouped columns become regular columns again\n",
        "region_wise = region_wise.reset_index()\n",
        "\n",
        "# We are sorting the dataframe by 'total_attacks' column in descending order\n",
        "region_wise = region_wise.sort_values('total_attacks', ascending=False)"
      ],
      "metadata": {
        "id": "9rtNAoKH1hPq"
      },
      "execution_count": null,
      "outputs": []
    },
    {
      "cell_type": "code",
      "source": [
        "# Set the figure size to 15 inches (width) and 8 inches (height)\n",
        "plt.rcParams['figure.figsize']=(15,8)\n",
        "\n",
        "# Set the style of the plot to whitegrid\n",
        "sns.set_style(\"whitegrid\")\n",
        "\n",
        "# Set the font scale to 1.2\n",
        "sns.set(font_scale=1.2)\n",
        "\n",
        "# Create a bar plot with total_attacks on the x-axis and region on the y-axis, using the region_wise dataset, and color palette 'rocket'\n",
        "f=sns.barplot(x='total_attacks',y='region',data=region_wise,palette='rocket')\n",
        "\n",
        "# Set the title of the plot to 'Region Wise Global Terrorist Attack   Year 1970-2017', with fontsize 25 and fontweight 'bold'\n",
        "f.set_title(\"Region Wise Global Terrorist Attack   Year 1970-2017\",fontsize=25,fontweight='bold')\n",
        "\n",
        "# Set the label of the x-axis to 'Total Attacks', with fontsize 20\n",
        "f.set_xlabel('Total Attacks',fontsize=20)\n",
        "\n",
        "# Set the label of the y-axis to 'Region', with fontsize 20\n",
        "f.set_ylabel('Region',fontsize=20)\n"
      ],
      "metadata": {
        "id": "sulbpzav1zEU"
      },
      "execution_count": null,
      "outputs": []
    },
    {
      "cell_type": "markdown",
      "source": [
        "##### 1. Why did you pick the specific chart?"
      ],
      "metadata": {
        "id": "bbFf2-_FphqN"
      }
    },
    {
      "cell_type": "markdown",
      "source": [
        "Because, data is catagorical in nature"
      ],
      "metadata": {
        "id": "loh7H2nzphqN"
      }
    },
    {
      "cell_type": "markdown",
      "source": [
        "##### 2. What is/are the insight(s) found from the chart?"
      ],
      "metadata": {
        "id": "_ouA3fa0phqN"
      }
    },
    {
      "cell_type": "markdown",
      "source": [
        "* Middle East & North Africais the most attacked region between the years 1970-2017.\n",
        "\n",
        "* CentralAsia and most Australasia and Oceania are peaceful and safer region in comparison to others"
      ],
      "metadata": {
        "id": "VECbqPI7phqN"
      }
    },
    {
      "cell_type": "markdown",
      "source": [
        "##### 3. Will the gained insights help creating a positive business impact?\n",
        "Are there any insights that lead to negative growth? Justify with specific reason."
      ],
      "metadata": {
        "id": "Seke61FWphqN"
      }
    },
    {
      "cell_type": "markdown",
      "source": [
        "It is easy to choose new destinations for business."
      ],
      "metadata": {
        "id": "DW4_bGpfphqN"
      }
    },
    {
      "cell_type": "markdown",
      "source": [
        "#### Chart - 7"
      ],
      "metadata": {
        "id": "PIIx-8_IphqN"
      }
    },
    {
      "cell_type": "markdown",
      "source": [
        "# Terrorists Top Targets to attack"
      ],
      "metadata": {
        "id": "TbNlUMZ6IKZ3"
      }
    },
    {
      "cell_type": "code",
      "source": [
        "# Selecting the required columns from the dataframe and creating a new dataframe\n",
        "target_df=sub_df[['target_type','total_kills']].copy()\n",
        "\n",
        "# Grouping the target_df by target type and aggregating the count of target type and sum of total kills\n",
        "target_wise=target_df.groupby('target_type').agg({'target_type':'count','total_kills':'sum'}).rename(columns={'target_type':'total_attacks'}).sort_values('total_attacks',ascending=False)\n",
        "\n",
        "# Adding a new column to target_wise dataframe for total damage and sorting by it in descending order\n",
        "target_wise['total_damage']=target_wise.total_attacks+target_wise.total_kills\n",
        "target_wise.sort_values('total_damage',ascending=False)\n",
        "\n",
        "# Resetting the index of target_wise dataframe\n",
        "target_wise.reset_index(inplace = True)\n",
        "\n",
        "# Setting the figure size and font scale for the plot\n",
        "plt.rcParams['figure.figsize']=(18,10)\n",
        "sns.set(font_scale=1.2)\n",
        "sns.set_style(\"whitegrid\")\n",
        "\n",
        "# Creating a barplot using seaborn for total attacks vs target type\n",
        "l=sns.barplot(x='total_attacks',y='target_type',data=target_wise,palette='pastel')\n",
        "\n",
        "# Setting the title, x-label and y-label for the plot\n",
        "l.set_title(\"Most Targeted Groups in the attacks\",fontsize=25,fontweight='bold')\n",
        "l.set_xlabel('Total Attacks',fontsize=20)\n",
        "l.set_ylabel('Type of Targets',fontsize=20)"
      ],
      "metadata": {
        "id": "n0a2g35m29HF"
      },
      "execution_count": null,
      "outputs": []
    },
    {
      "cell_type": "markdown",
      "source": [
        "##### 1. Why did you pick the specific chart?"
      ],
      "metadata": {
        "id": "t27r6nlMphqO"
      }
    },
    {
      "cell_type": "markdown",
      "source": [
        "Because, data is catagorical in nature"
      ],
      "metadata": {
        "id": "iv6ro40sphqO"
      }
    },
    {
      "cell_type": "markdown",
      "source": [
        "##### 2. What is/are the insight(s) found from the chart?"
      ],
      "metadata": {
        "id": "r2jJGEOYphqO"
      }
    },
    {
      "cell_type": "markdown",
      "source": [
        "* Terrorist Groups are more likely to attack on the Big Private properties like Malls  HOtels or on Citizens. /\n",
        "* Government establishments like Military, Police and Government(General) were 2nd, 3rd and 4rth in the top list"
      ],
      "metadata": {
        "id": "Po6ZPi4hphqO"
      }
    },
    {
      "cell_type": "markdown",
      "source": [
        "##### 3. Will the gained insights help creating a positive business impact?\n",
        "Are there any insights that lead to negative growth? Justify with specific reason."
      ],
      "metadata": {
        "id": "b0JNsNcRphqO"
      }
    },
    {
      "cell_type": "markdown",
      "source": [
        "not give much insight for business growth"
      ],
      "metadata": {
        "id": "xvSq8iUTphqO"
      }
    },
    {
      "cell_type": "markdown",
      "source": [
        "#### Chart - 8"
      ],
      "metadata": {
        "id": "BZR9WyysphqO"
      }
    },
    {
      "cell_type": "markdown",
      "source": [
        "# Percentage of damage done in the world by different attacks."
      ],
      "metadata": {
        "id": "AWI8d1EeHx3L"
      }
    },
    {
      "cell_type": "code",
      "source": [
        "# Creating a new column \"Damage\" in the sub_df dataframe\n",
        "sub_df[\"Damage\"] = sub_df[\"total_kills\"]+sub_df['total_wounds']\n",
        "\n",
        "# Grouping the sub_df dataframe by \"attack_type\" column and aggregating \"Damage\" column to calculate total damage done\n",
        "damage_done = sub_df.groupby('attack_type').agg({'Damage':'sum'}).sort_values('Damage',ascending=False)\n",
        "\n",
        "# Resetting index of the \"damage_done\" dataframe\n",
        "damage_done.reset_index(inplace = True)\n",
        "\n",
        "# Adding the values of 3rd, 5th, 6th, 7th and 9th rows to the 3rd row of the \"damage_done\" dataframe\n",
        "damage_done.loc[2,\"Damage\"] = damage_done.loc[2,\"Damage\"] + damage_done.loc[4,\"Damage\"] + damage_done.loc[5,\"Damage\"] + damage_done.loc[6,\"Damage\"] + damage_done.loc[8,\"Damage\"]\n",
        "\n",
        "# Selecting the 5 largest values of \"Damage\" column in the \"damage_done\" dataframe\n",
        "damage_done = damage_done.nlargest(5,'Damage')\n",
        "\n",
        "# Creating a list of labels for the pie chart\n",
        "my_labels = [\"Bombing/Explosion\", \"Armed Assault\", \"Others\", \"Assassination\", \"Hijacking\"]\n",
        "\n",
        "# Setting the size of the plot\n",
        "plt.rcParams['figure.figsize']=(18,10)\n",
        "\n",
        "# Creating a list of values to explode the slices of the pie chart\n",
        "explode=[0.05, 0, 0, 0, 0]\n",
        "\n",
        "# Setting the font size\n",
        "mpl.rcParams['font.size'] = 20.0\n",
        "\n",
        "# Creating a pie chart using the \"Damage\" column and \"my_labels\" as labels\n",
        "plt.pie(damage_done[\"Damage\"], labels=my_labels, explode=explode, shadow=True, startangle=60, autopct='%1.1f%%')\n",
        "\n",
        "# Setting the title of the pie chart\n",
        "plt.title('% of damages done by the attacks')\n",
        "\n",
        "# Setting the axis of the pie chart to equal\n",
        "plt.axis('equal')\n",
        "\n",
        "# Displaying the pie chart\n",
        "plt.show()"
      ],
      "metadata": {
        "id": "1uIic7qL2u-H"
      },
      "execution_count": null,
      "outputs": []
    },
    {
      "cell_type": "markdown",
      "source": [
        "##### 1. Why did you pick the specific chart?"
      ],
      "metadata": {
        "id": "jj7wYXLtphqO"
      }
    },
    {
      "cell_type": "markdown",
      "source": [
        "* It is easys to catagorise all catagories in single graph."
      ],
      "metadata": {
        "id": "Ob8u6rCTphqO"
      }
    },
    {
      "cell_type": "markdown",
      "source": [
        "##### 2. What is/are the insight(s) found from the chart?"
      ],
      "metadata": {
        "id": "eZrbJ2SmphqO"
      }
    },
    {
      "cell_type": "markdown",
      "source": [
        "* Bombing/explosion andArmed Assult has done the maximum damage in terms of death in the  from 1970-2017."
      ],
      "metadata": {
        "id": "mZtgC_hjphqO"
      }
    },
    {
      "cell_type": "markdown",
      "source": [
        "##### 3. Will the gained insights help creating a positive business impact?\n",
        "Are there any insights that lead to negative growth? Justify with specific reason."
      ],
      "metadata": {
        "id": "rFu4xreNphqO"
      }
    },
    {
      "cell_type": "markdown",
      "source": [
        "Yes, it helps."
      ],
      "metadata": {
        "id": "ey_0qi68phqO"
      }
    },
    {
      "cell_type": "markdown",
      "source": [
        "#### Chart - 9"
      ],
      "metadata": {
        "id": "YJ55k-q6phqO"
      }
    },
    {
      "cell_type": "markdown",
      "source": [
        "#  Number of attacks in India"
      ],
      "metadata": {
        "id": "MyuU6kM6K-Iy"
      }
    },
    {
      "cell_type": "code",
      "source": [
        "# Selecting subset of the dataframe where the country is India\n",
        "df_India = sub_df[sub_df['country']=='India']\n",
        "\n",
        "# Counting the number of attacks by year for India and storing it in a new dataframe\n",
        "df_number_of_attacks_by_years = df_India['year'].value_counts().rename_axis('year').reset_index(name='number_of_attacks')\n",
        "\n",
        "# Displaying the first 3 rows of the new dataframe\n",
        "df_number_of_attacks_by_years.head(3)"
      ],
      "metadata": {
        "id": "CNXlGH0e3zMH"
      },
      "execution_count": null,
      "outputs": []
    },
    {
      "cell_type": "code",
      "source": [
        "# Set the size of the plot to 20x10 inches\n",
        "plt.rcParams['figure.figsize']=(20,10)\n",
        "\n",
        "# Sort the dataframe by year in ascending order and plot a bar chart\n",
        "df_number_of_attacks_by_years.sort_values('year',ascending= True).plot(kind='bar',x='year',y='number_of_attacks')\n",
        "\n",
        "# Set the font size of y-axis tick labels to 20\n",
        "plt.yticks(fontsize=20)\n",
        "\n",
        "# Set the font size of x-axis tick labels to 20\n",
        "plt.xticks(fontsize=20)\n",
        "\n",
        "# Set the label for the x-axis to \"Year\" with a font size of 20\n",
        "plt.xlabel('Year', fontsize=20)\n",
        "\n",
        "# Set the label for the y-axis to \"Number of Attacks\" with a font size of 20\n",
        "plt.ylabel('Number_of-Attacks', fontsize=20)\n",
        "\n",
        "# Set the title of the plot to \"Number of Attacks Each Year in India\" with a font size of 30\n",
        "plt.title('Number of Attacks Each Year in India', fontsize=30)"
      ],
      "metadata": {
        "id": "VNOxe94x3-hA"
      },
      "execution_count": null,
      "outputs": []
    },
    {
      "cell_type": "markdown",
      "source": [
        "##### 1. Why did you pick the specific chart?"
      ],
      "metadata": {
        "id": "gCFgpxoyphqP"
      }
    },
    {
      "cell_type": "markdown",
      "source": [
        "* It is useful to catagorise data on yearly basis"
      ],
      "metadata": {
        "id": "TVxDimi2phqP"
      }
    },
    {
      "cell_type": "markdown",
      "source": [
        "##### 2. What is/are the insight(s) found from the chart?"
      ],
      "metadata": {
        "id": "OVtJsKN_phqQ"
      }
    },
    {
      "cell_type": "markdown",
      "source": [
        "* Year 2016 witnessed highest number of terrorist attacks in India followed by 2017 and 2015.\n",
        "* Chart  also shows sudden increased tn terrorist attacks between year 1988-1992 and after year 2008.\n",
        "* the graph also shows continuity in terrorist attacks in india since 1979."
      ],
      "metadata": {
        "id": "ngGi97qjphqQ"
      }
    },
    {
      "cell_type": "markdown",
      "source": [
        "##### 3. Will the gained insights help creating a positive business impact?\n",
        "Are there any insights that lead to negative growth? Justify with specific reason."
      ],
      "metadata": {
        "id": "lssrdh5qphqQ"
      }
    },
    {
      "cell_type": "markdown",
      "source": [
        "Yes it helps to make future business stratergies."
      ],
      "metadata": {
        "id": "tBpY5ekJphqQ"
      }
    },
    {
      "cell_type": "markdown",
      "source": [
        "#### Chart - 10"
      ],
      "metadata": {
        "id": "U2RJ9gkRphqQ"
      }
    },
    {
      "cell_type": "markdown",
      "source": [
        "#  No. of citizens killed each year in India"
      ],
      "metadata": {
        "id": "qICWsh3KKxq4"
      }
    },
    {
      "cell_type": "code",
      "source": [
        "# This code groups the data in the 'df_India' dataframe by year and calculates the total number of kills per year\n",
        "kills_per_year_india=df_India.groupby('year').agg({'total_kills':'sum'})\n",
        "\n",
        "# This code resets the index of the 'kills_per_year_india' dataframe\n",
        "kills_per_year_india.reset_index(inplace=True)\n",
        "\n",
        "# This code displays the first three rows of the 'kills_per_year_india' dataframe\n",
        "kills_per_year_india.head(20)"
      ],
      "metadata": {
        "id": "Su6yUBu74JIj"
      },
      "execution_count": null,
      "outputs": []
    },
    {
      "cell_type": "code",
      "source": [
        "# Sort the values in the 'kills_per_year_india' dataframe by year in ascending order and plot as a bar chart.\n",
        "kills_per_year_india.sort_values('year',ascending= True).plot(kind='bar',x='year',y='total_kills')\n",
        "\n",
        "# Set the font size for the y-axis ticks to 15.\n",
        "plt.yticks(fontsize=15)\n",
        "\n",
        "# Set the font size for the x-axis ticks to 15 and rotate the tick labels by 90 degrees.\n",
        "plt.xticks(fontsize=15, rotation=90)\n",
        "\n",
        "# Set the label for the x-axis to 'Years' and the font size to 20.\n",
        "plt.xlabel('Years', fontsize=20)\n",
        "\n",
        "# Set the label for the y-axis to 'Total Kills' and the font size to 20.\n",
        "plt.ylabel('Total Kills', fontsize=20)\n",
        "\n",
        "# Set the title of the plot to 'Total Number of Kills Each Year in India from 1970-2017', with a font size of 20 and bold font weight.\n",
        "plt.title('Total Number of Kills Each Year in India from 1970-2017', fontsize=20,fontweight='bold')"
      ],
      "metadata": {
        "id": "8BZU73uA4cMN"
      },
      "execution_count": null,
      "outputs": []
    },
    {
      "cell_type": "markdown",
      "source": [
        "##### 1. Why did you pick the specific chart?"
      ],
      "metadata": {
        "id": "1M8mcRywphqQ"
      }
    },
    {
      "cell_type": "markdown",
      "source": [
        "It is useful to catagorise data on yearly basis"
      ],
      "metadata": {
        "id": "8agQvks0phqQ"
      }
    },
    {
      "cell_type": "markdown",
      "source": [
        "##### 2. What is/are the insight(s) found from the chart?"
      ],
      "metadata": {
        "id": "tgIPom80phqQ"
      }
    },
    {
      "cell_type": "markdown",
      "source": [
        "* 1992 was the year where the most number of citizen were killed with total number is 1152.\n",
        "* Between 1988-1992 witnessed highest number of casualities in terrorist attacks in India.\n",
        "* no definate  pattern seen in terrorist attacks."
      ],
      "metadata": {
        "id": "Qp13pnNzphqQ"
      }
    },
    {
      "cell_type": "markdown",
      "source": [
        "##### 3. Will the gained insights help creating a positive business impact?\n",
        "Are there any insights that lead to negative growth? Justify with specific reason."
      ],
      "metadata": {
        "id": "JMzcOPDDphqR"
      }
    },
    {
      "cell_type": "markdown",
      "source": [
        "yes, it help  bussiness because people generally avoids terrorist prone areas for jobs."
      ],
      "metadata": {
        "id": "R4Ka1PC2phqR"
      }
    },
    {
      "cell_type": "markdown",
      "source": [
        "#### Chart - 11"
      ],
      "metadata": {
        "id": "x-EpHcCOp1ci"
      }
    },
    {
      "cell_type": "markdown",
      "source": [
        "# Top Targets for terrorists in India"
      ],
      "metadata": {
        "id": "AlBWHMZzLj6H"
      }
    },
    {
      "cell_type": "code",
      "source": [
        "target_df=df_India[['target_type','total_kills']]"
      ],
      "metadata": {
        "id": "uEGNTQ0XU1Lm"
      },
      "execution_count": null,
      "outputs": []
    },
    {
      "cell_type": "code",
      "source": [
        "target_df.target_type.isna().sum()"
      ],
      "metadata": {
        "id": "ZwtX2FrVU1E1"
      },
      "execution_count": null,
      "outputs": []
    },
    {
      "cell_type": "code",
      "source": [
        "# This line groups the 'target_df' dataframe by 'target_type' column and aggregates the 'target_type' and 'total_kills' columns using count and sum functions respectively\n",
        "target_wise=target_df.groupby('target_type').agg({'target_type':'count','total_kills':'sum'}).rename(columns={'target_type':'total_attacks'}).sort_values('total_attacks',ascending=False)\n",
        "\n",
        "# This line prints the first 3 rows of the 'target_wise' dataframe, which shows the top 3 most attacked target types with their corresponding total attack count and total kills\n",
        "target_wise.head(3)"
      ],
      "metadata": {
        "id": "SzYej5t54tz7"
      },
      "execution_count": null,
      "outputs": []
    },
    {
      "cell_type": "code",
      "source": [
        "# We are adding a new column 'total_damage' to the DataFrame 'target_wise' by summing up 'total_attacks' and 'total_kills'\n",
        "target_wise['total_damage']=target_wise.total_attacks+target_wise.total_kills\n",
        "\n",
        "# We are sorting the DataFrame 'target_wise' based on the values in the column 'total_damage' in descending order\n",
        "target_wise.sort_values('total_damage',ascending=False)\n",
        "\n",
        "# We are displaying the top 3 rows of the sorted DataFrame 'target_wise'\n",
        "target_wise.head(3)"
      ],
      "metadata": {
        "id": "Uebyn7bR473K"
      },
      "execution_count": null,
      "outputs": []
    },
    {
      "cell_type": "code",
      "source": [
        "# Set the size of the plot\n",
        "plt.rcParams['figure.figsize']=(18,10)\n",
        "\n",
        "# Set the font scale for seaborn\n",
        "sns.set(font_scale=1)\n",
        "\n",
        "# Set the style of the plot to whitegrid\n",
        "sns.set_style(\"whitegrid\")\n",
        "\n",
        "# Create a barplot using seaborn, with total_attacks on the x-axis, target_wise.index on the y-axis, and a flare color palette\n",
        "l=sns.barplot(x='total_attacks',y=target_wise.index,data=target_wise,palette='flare')\n",
        "\n",
        "# Set the title of the plot, with a font size of 25 and font weight of bold\n",
        "l.set_title(\"Most attacked Targets in India from 1970-2017\",fontsize=25,fontweight='bold')\n",
        "\n",
        "# Set the x-axis label of the plot, with a font size of 20\n",
        "l.set_xlabel('Number of Attacks',fontsize=20)\n",
        "\n",
        "# Set the y-axis label of the plot, with a font size of 20\n",
        "l.set_ylabel('Type of Targets',fontsize=20)"
      ],
      "metadata": {
        "id": "hj5fnpCL5MBM"
      },
      "execution_count": null,
      "outputs": []
    },
    {
      "cell_type": "markdown",
      "source": [
        "##### 1. Why did you pick the specific chart?"
      ],
      "metadata": {
        "id": "X_VqEhTip1ck"
      }
    },
    {
      "cell_type": "markdown",
      "source": [
        "It is useful  for catagorical data"
      ],
      "metadata": {
        "id": "-vsMzt_np1ck"
      }
    },
    {
      "cell_type": "markdown",
      "source": [
        "##### 2. What is/are the insight(s) found from the chart?"
      ],
      "metadata": {
        "id": "8zGJKyg5p1ck"
      }
    },
    {
      "cell_type": "markdown",
      "source": [
        "* Private Citizen and Property are the top taget with total of 3144 attacks.\n",
        "* Also, government establishments such as Police, Government(general) and Military were also in top five list.\n",
        "* Private Citizens & Property also has got highest damage and kills in terrorist attacks."
      ],
      "metadata": {
        "id": "ZYdMsrqVp1ck"
      }
    },
    {
      "cell_type": "markdown",
      "source": [
        "##### 3. Will the gained insights help creating a positive business impact?\n",
        "Are there any insights that lead to negative growth? Justify with specific reason."
      ],
      "metadata": {
        "id": "PVzmfK_Ep1ck"
      }
    },
    {
      "cell_type": "markdown",
      "source": [
        "yes, it helps to save employees and business property aganist attacks"
      ],
      "metadata": {
        "id": "druuKYZpp1ck"
      }
    },
    {
      "cell_type": "markdown",
      "source": [
        "#### Chart - 12"
      ],
      "metadata": {
        "id": "n3dbpmDWp1ck"
      }
    },
    {
      "cell_type": "markdown",
      "source": [
        "# Number of Attacks in Each City in India"
      ],
      "metadata": {
        "id": "SjQffQsvVxVT"
      }
    },
    {
      "cell_type": "code",
      "source": [
        "# Selecting the rows with country 'India' from the sub-dataframe\n",
        "df_India= sub_df[sub_df['country']=='India']\n",
        "\n",
        "# Alternative way to do the same\n",
        "# country_IND=sub_df[sub_df['country']=='India']\n",
        "\n",
        "# Selecting the rows with a known city in India\n",
        "city_known = df_India[df_India['city']!='Unknown']\n",
        "\n",
        "# Creating a new dataframe with columns 'provstate' and 'city'\n",
        "state_city=city_known[['provstate','city']]\n",
        "\n",
        "# Grouping the dataframe by 'provstate' and finding the mode of 'city' in each group\n",
        "city_mode=state_city.groupby('provstate')['city'].apply(lambda x: x.mode().loc[0])\n",
        "\n",
        "# Resetting the index of the resulting dataframe\n",
        "city_mode=city_mode.reset_index()\n",
        "\n",
        "# Creating a dictionary with 'provstate' as key and 'city' as value\n",
        "dict_=dict(zip(city_mode.provstate,city_mode.city))\n",
        "\n",
        "# Creating a new column 'new_city' in the dataframe 'df_India' with the same values as 'city'\n",
        "df_India['new_city']=df_India.city.copy()"
      ],
      "metadata": {
        "id": "RGF-W5q05lM2"
      },
      "execution_count": null,
      "outputs": []
    },
    {
      "cell_type": "code",
      "source": [
        "# Iterate through each row in the df_India DataFrame\n",
        "for i,row in df_India.iterrows():\n",
        "\n",
        "  # Check if the 'provstate' column for the current row is not equal to 'Unknown'\n",
        "  if df_India.at[i,'provstate']!='Unknown':\n",
        "\n",
        "    # Check if the 'city' column for the current row is equal to 'Unknown'\n",
        "    if df_India.at[i,'city']=='Unknown':\n",
        "\n",
        "      # Set the 'new_city' column for the current row to the value in the 'dict_' dictionary corresponding to the 'provstate' value\n",
        "      df_India.at[i,'new_city']=dict_[row['provstate']]\n",
        "\n",
        "    # If the 'city' column for the current row is not equal to 'Unknown'\n",
        "    else:\n",
        "\n",
        "      # Use the existing value in the 'new_city' column for the current row\n",
        "      df_India.at[i,'new_city']=df_India.at[i,'new_city']\n"
      ],
      "metadata": {
        "id": "lNtL1eiO54bS"
      },
      "execution_count": null,
      "outputs": []
    },
    {
      "cell_type": "code",
      "source": [
        "# Assigning values of 'new_city' column to 'city' column of 'df_India' dataframe\n",
        "df_India['city']= df_India['new_city']\n",
        "\n",
        "# Counting the number of attacks by cities in 'df_India' dataframe\n",
        "# Renaming the index as 'unique_cities' and column as 'number_of_attacks'\n",
        "df_number_of_attacks_by_cities = df_India['city'].value_counts().rename_axis('unique_cities').reset_index(name='number_of_attacks')\n",
        "\n",
        "# Sorting the cities by the number of attacks in descending order\n",
        "# Resetting the index of the resulting dataframe\n",
        "df_sorted_city_by_attacks= df_number_of_attacks_by_cities.sort_values(['number_of_attacks'], ascending= False).reset_index(drop= True)"
      ],
      "metadata": {
        "id": "hNrFtKe36ET1"
      },
      "execution_count": null,
      "outputs": []
    },
    {
      "cell_type": "code",
      "source": [
        "# Set the size of the figure\n",
        "plt.rcParams[\"figure.figsize\"] = (20, 5)\n",
        "\n",
        "# Create a line plot of the top 15 cities with the highest number of terrorist attacks\n",
        "df_sorted_city_by_attacks.head(15).plot(zorder=5,color='C2', marker='o')\n",
        "\n",
        "# Create a bar plot of the top 15 cities with the highest number of terrorist attacks\n",
        "plt.bar(df_sorted_city_by_attacks['unique_cities'].head(15),df_sorted_city_by_attacks['number_of_attacks'].head(15),color='r')\n",
        "\n",
        "# Set the font size for the y-axis ticks\n",
        "plt.yticks(fontsize=15)\n",
        "\n",
        "# Set the font size and rotation for the x-axis ticks\n",
        "plt.xticks(fontsize=15, rotation=90)\n",
        "\n",
        "# Set the x and y axis labels and their font sizes\n",
        "plt.xlabel('Cities', fontsize=20)\n",
        "plt.ylabel('Number Of Attacks', fontsize=20)\n",
        "\n",
        "# Set the title and its font size and weight\n",
        "plt.title(\"Top Terrorist Prone Cities (1970-2017) in India\", fontsize=25, fontweight='bold')\n",
        "\n",
        "# Display the plot\n",
        "plt.show()"
      ],
      "metadata": {
        "id": "sgx0BrPB6QwX"
      },
      "execution_count": null,
      "outputs": []
    },
    {
      "cell_type": "markdown",
      "source": [
        "##### 1. Why did you pick the specific chart?"
      ],
      "metadata": {
        "id": "ylSl6qgtp1ck"
      }
    },
    {
      "cell_type": "markdown",
      "source": [
        "It is easy to identify different cities and number of attacks"
      ],
      "metadata": {
        "id": "m2xqNkiQp1ck"
      }
    },
    {
      "cell_type": "markdown",
      "source": [
        "##### 2. What is/are the insight(s) found from the chart?"
      ],
      "metadata": {
        "id": "ZWILFDl5p1ck"
      }
    },
    {
      "cell_type": "markdown",
      "source": [
        "* Srinagar is the most terrorist prone city in india followed by Imphal , Amritsir and Guwhati."
      ],
      "metadata": {
        "id": "x-lUsV2mp1ck"
      }
    },
    {
      "cell_type": "markdown",
      "source": [
        "##### 3. Will the gained insights help creating a positive business impact?\n",
        "Are there any insights that lead to negative growth? Justify with specific reason."
      ],
      "metadata": {
        "id": "M7G43BXep1ck"
      }
    },
    {
      "cell_type": "markdown",
      "source": [
        "Help to choose cities fo business"
      ],
      "metadata": {
        "id": "5wwDJXsLp1cl"
      }
    },
    {
      "cell_type": "markdown",
      "source": [
        "#### Chart - 13"
      ],
      "metadata": {
        "id": "Ag9LCva-p1cl"
      }
    },
    {
      "cell_type": "markdown",
      "source": [
        "# Most Active Terrorist Group Statewise in India"
      ],
      "metadata": {
        "id": "Y1fky8ZwXPLa"
      }
    },
    {
      "cell_type": "code",
      "source": [
        "# Replacing 'Orissa' with 'Odisha' in the dataframe df_India\n",
        "df_India.replace('Orissa', 'Odisha', inplace= True)\n",
        "\n",
        "# Replacing 'Jammu and Kashmir' with 'Jammu & Kashmir' in the dataframe df_India\n",
        "df_India.replace('Jammu and Kashmir', 'Jammu & Kashmir', inplace= True)\n",
        "\n",
        "# Replacing 'Andhra pradesh' with 'Andhra Pradesh' in the dataframe df_India\n",
        "df_India.replace('Andhra pradesh', 'Andhra Pradesh', inplace= True)\n",
        "\n",
        "# Replacing 'Uttaranchal' with 'Uttarakhand' in the dataframe df_India\n",
        "df_India.replace('Uttaranchal', 'Uttarakhand', inplace= True)\n",
        "\n",
        "# Replacing 'Arunachal Pradesh' with 'Arunanchal Pradesh' in the dataframe df_India\n",
        "df_India.replace('Arunachal Pradesh', 'Arunanchal Pradesh', inplace= True)\n",
        "\n",
        "# Replacing 'Delhi' with 'NCT of Delhi' in the dataframe df_India\n",
        "df_India.replace('Delhi', 'NCT of Delhi', inplace= True)\n",
        "\n",
        "# Selecting rows where the value of 'provstate' column is 'Unknown' and storing the index of these rows in indexNames\n",
        "indexNames = df_India[ df_India['provstate'] =='Unknown' ].index\n",
        "\n",
        "# Dropping the rows with index in indexNames from the dataframe df_India\n",
        "df_India.drop(indexNames , inplace=True)"
      ],
      "metadata": {
        "id": "NtY5mFpP69YX"
      },
      "execution_count": null,
      "outputs": []
    },
    {
      "cell_type": "code",
      "source": [
        "# Create a new dataframe using selected columns from df_India\n",
        "statewise_terrorist_attack_group = pd.DataFrame(df_India, columns=['provstate','terrorist_group','attack_type','total_kills' ])\n",
        "\n",
        "# Group the attacks by province/state and terrorist group and calculate the count of attacks\n",
        "active_group = statewise_terrorist_attack_group.groupby(['provstate','terrorist_group']).agg({'terrorist_group':'count'}).rename(columns={'terrorist_group':'number of attacks'}).reset_index()\n",
        "\n",
        "# Group the active groups by province/state and find the maximum number of attacks\n",
        "most_active_group = active_group.groupby(\"provstate\").max().reset_index()\n",
        "\n",
        "# Sort the most active terrorist groups state-wise by the number of attacks in descending order\n",
        "most_active_terror_group_statewise = most_active_group.sort_values('number of attacks', ascending= False)\n",
        "\n",
        "# Select the top 10 most active terrorist groups by province/state and sort by the number of attacks in ascending order\n",
        "most_active_terror_group_statewise = most_active_terror_group_statewise.nlargest(10,'number of attacks').sort_values('number of attacks',ascending=True)"
      ],
      "metadata": {
        "id": "jHmXMebY7NFE"
      },
      "execution_count": null,
      "outputs": []
    },
    {
      "cell_type": "code",
      "source": [
        "# Set the figure size for the plot\n",
        "plt.rcParams[\"figure.figsize\"] = (20, 8)\n",
        "\n",
        "# Set x1 to the data from the column 'terrorist_group'\n",
        "x1 = most_active_terror_group_statewise['terrorist_group']\n",
        "\n",
        "# Create a horizontal bar plot using the data from the columns 'provstate' and 'number of attacks'\n",
        "# Set the width of the bars to 0.8\n",
        "m = most_active_terror_group_statewise.plot(kind='barh', x='provstate', y='number of attacks', width=0.8)\n",
        "\n",
        "# Set the label for the x-axis and y-axis of the plot\n",
        "m.set_xlabel('Total Number of Attacks', fontsize=15, fontweight='bold')\n",
        "m.set_ylabel('Terrorist Group', fontsize=22, fontweight='bold')\n",
        "\n",
        "# Set the font size for the y-axis and x-axis ticks\n",
        "plt.yticks(fontsize=16)\n",
        "plt.xticks(fontsize=16)\n",
        "\n",
        "# Set the label for the x-axis and y-axis title, with font size and color\n",
        "plt.xlabel('', fontsize=25, color='b')\n",
        "plt.ylabel('Number of Attacks', fontsize=25)\n",
        "\n",
        "# Set the title for the plot, with font size and font weight\n",
        "plt.title('States With Most Number of Terrorist Attacks', fontsize=25, fontweight='bold')\n",
        "\n",
        "# Add a legend to the plot\n",
        "plt.legend()"
      ],
      "metadata": {
        "id": "sc_OEWcC7cuc"
      },
      "execution_count": null,
      "outputs": []
    },
    {
      "cell_type": "markdown",
      "source": [
        "##### 1. Why did you pick the specific chart?"
      ],
      "metadata": {
        "id": "E6MkPsBcp1cl"
      }
    },
    {
      "cell_type": "markdown",
      "source": [
        "* Because data is catagorical in nature"
      ],
      "metadata": {
        "id": "V22bRsFWp1cl"
      }
    },
    {
      "cell_type": "markdown",
      "source": [
        "##### 2. What is/are the insight(s) found from the chart?"
      ],
      "metadata": {
        "id": "2cELzS2fp1cl"
      }
    },
    {
      "cell_type": "markdown",
      "source": [
        "* Terrorist Groups are most active in Jammu and Kashmir mostly funded by pakistan led terrorist group followed by Manipur,Chhattisgarh and jharkhand.\n",
        "* Graph clearly shows that state sharing international borders are more prone to terrorist attacks."
      ],
      "metadata": {
        "id": "ozQPc2_Ip1cl"
      }
    },
    {
      "cell_type": "markdown",
      "source": [
        "##### 3. Will the gained insights help creating a positive business impact?\n",
        "Are there any insights that lead to negative growth? Justify with specific reason."
      ],
      "metadata": {
        "id": "3MPXvC8up1cl"
      }
    },
    {
      "cell_type": "markdown",
      "source": [
        "yes, graph clearly show  Jammu kashmir is not suitable for establishing business"
      ],
      "metadata": {
        "id": "GL8l1tdLp1cl"
      }
    },
    {
      "cell_type": "markdown",
      "metadata": {
        "id": "a0WH5p7O6UyX"
      },
      "source": [
        "# 14.Total Kills vs Type of Attack"
      ]
    },
    {
      "cell_type": "code",
      "metadata": {
        "id": "IPaxABV64bBj"
      },
      "source": [
        "terrorist_attack_group=pd.DataFrame(df_India, columns=['city','terrorist_group','attack_type','total_kills' ])\n",
        "terrorist_attack_group.sort_values('total_kills', ascending= False)\n",
        "index_names = terrorist_attack_group[ terrorist_attack_group['terrorist_group'] == 'Unknown' ].index\n",
        "terrorist_attack_group.drop(index_names, inplace = True)\n",
        "index_names = terrorist_attack_group[ terrorist_attack_group['attack_type'] == 'Unknown' ].index\n",
        "terrorist_attack_group.drop(index_names, inplace = True)\n",
        "terrorist_attack_group.head(3)"
      ],
      "execution_count": null,
      "outputs": []
    },
    {
      "cell_type": "code",
      "metadata": {
        "id": "cHHWyP_P8LjP"
      },
      "source": [
        "attack_type_killings= terrorist_attack_group.groupby(['attack_type'])['total_kills'].sum().rename_axis('attack_type').reset_index(name='total_kills')\n",
        "attack_type_killings.sort_values('total_kills', ascending= False)"
      ],
      "execution_count": null,
      "outputs": []
    },
    {
      "cell_type": "code",
      "metadata": {
        "id": "k7dessV18OT4"
      },
      "source": [
        "plt.rcParams[\"figure.figsize\"] = (18, 5)\n",
        "attack_type_killings.sort_values('total_kills', ascending= True).plot(kind='barh',x='attack_type',color='c',y='total_kills', width=0.8)\n",
        "plt.yticks(fontsize=12)\n",
        "plt.xticks(fontsize=12)\n",
        "plt. xlabel('Total Kills', fontsize=20)\n",
        "plt. ylabel('Attack Type', fontsize=20)\n",
        "plt.title('Total Damage (1970-2017) vs Terrorist Attack Type in India', fontsize=25,fontweight='bold')"
      ],
      "execution_count": null,
      "outputs": []
    },
    {
      "cell_type": "markdown",
      "source": [
        "##### 2. What is/are the insight(s) found from the chart?"
      ],
      "metadata": {
        "id": "5E-JuJWWsq0g"
      }
    },
    {
      "cell_type": "markdown",
      "source": [
        "* Armed assault has caused most no of casualties.\n",
        "* Bombing/Explosion being the second and Assassination being third.."
      ],
      "metadata": {
        "id": "6q6GXWkfstv1"
      }
    },
    {
      "cell_type": "markdown",
      "source": [
        "#### Chart - 15 - Correlation Heatmap"
      ],
      "metadata": {
        "id": "NC_X3p0fY2L0"
      }
    },
    {
      "cell_type": "markdown",
      "source": [],
      "metadata": {
        "id": "pxuKdbsFxcYS"
      }
    },
    {
      "cell_type": "code",
      "source": [
        "sns.heatmap(data[['iyear','city','country','region','attacktype1','longitude','latitude']].corr(), annot=True, cmap = 'Reds')"
      ],
      "metadata": {
        "id": "J96fZtcHvggN"
      },
      "execution_count": null,
      "outputs": []
    },
    {
      "cell_type": "markdown",
      "source": [
        "\n",
        "sns.heatmap(data[['attacktype1_txt','country','region']].corr(), annot=True, cmap = 'Reds')"
      ],
      "metadata": {
        "id": "phJtvt1Zs7Q8"
      }
    },
    {
      "cell_type": "markdown",
      "source": [
        "##### 1. Why did you pick the specific chart?"
      ],
      "metadata": {
        "id": "UV0SzAkaZNRQ"
      }
    },
    {
      "cell_type": "markdown",
      "source": [
        "For establishing corellations"
      ],
      "metadata": {
        "id": "68vCwTYXUhst"
      }
    },
    {
      "cell_type": "markdown",
      "source": [
        "##### 2. What is/are the insight(s) found from the chart?"
      ],
      "metadata": {
        "id": "AkWLx1Y1Ufs6"
      }
    },
    {
      "cell_type": "markdown",
      "source": [
        "* year and country have weak corellation.\n",
        "* country and region have moderate corellation.\n",
        "* attacktype and region have moderate corellation.\n",
        "* region and latitude have moderate corellation."
      ],
      "metadata": {
        "id": "DVPuT8LYZNRQ"
      }
    },
    {
      "cell_type": "markdown",
      "source": [
        "##### 3. Will the gained insights help creating a positive business impact?\n",
        "Are there any insights that lead to negative growth? Justify with specific reason."
      ],
      "metadata": {
        "id": "Yu9NErD2U4fS"
      }
    },
    {
      "cell_type": "markdown",
      "source": [
        "Yes, it helps."
      ],
      "metadata": {
        "id": "bfSqtnDqZNRR"
      }
    },
    {
      "cell_type": "markdown",
      "source": [
        "## **5. Solution to Business Objective**"
      ],
      "metadata": {
        "id": "JcMwzZxoAimU"
      }
    },
    {
      "cell_type": "markdown",
      "source": [
        "#### What do you suggest the client to achieve Business Objective ?\n",
        "Explain Briefly."
      ],
      "metadata": {
        "id": "8G2x9gOozGDZ"
      }
    },
    {
      "cell_type": "markdown",
      "source": [
        "* Using predictive modeling to identify potential hotspots for terrorist activities. This involves analyzing historical data on terrorist incidents and identifying patterns that could indicate future attacks. We can use various machine learning algorithms such as decision trees, random forests, and neural networks to develop predictive models. These models can then be used to generate risk scores for different regions and types of targets, allowing businesses to prioritize their risk management strategies such as security protocols, insurance coverage, and contingency plans based on the identified information.\n",
        "* Analyze the Global Terrorism dataset to identify vulnerable regions and targets.\n",
        "* Develop risk management strategies\n",
        "* Monitor and assess the effectiveness of risk management strategies over time using the Global Terrorism dataset.\n",
        "* Leverage insights from the dataset to proactively manage exposure to terrorism-related risks.\n",
        "* Ultimately reduce the impact of terrorism on business operations and human lives."
      ],
      "metadata": {
        "id": "pASKb0qOza21"
      }
    },
    {
      "cell_type": "markdown",
      "source": [
        "# **Conclusion**"
      ],
      "metadata": {
        "id": "gCX9965dhzqZ"
      }
    },
    {
      "cell_type": "markdown",
      "source": [
        "After performing data wrangling and applying various data visualization techniques, we can conclude that global terrorism is a severe issue that requires immediate attention. The analysis of the Global Terrorism dataset has revealed several important insights into the patterns and trends of terrorist attacks across the world.\n",
        "\n",
        "One of the most significant findings is that terrorism is not limited to a particular region or country. It is a global phenomenon that affects people from all parts of the world. Additionally, the analysis has also shown that terrorism has increased significantly over the years, with a sharp rise in the number of attacks in recent times.\n",
        "\n",
        "The use of data visualization techniques has helped us to understand the nature of terrorist attacks, the targets of these attacks, and the weapons used in them. This information can be used to identify potential areas of vulnerability and take preventive measures to minimize the impact of terrorist attacks.\n",
        "\n",
        "* There has been a significant increase in terrorist activities across the world since 2008, with the year 2014 experiencing the highest number of incidents. This was followed by 2015, 2016, and 2017, with Iraq, Pakistan, and Afghanistan being the major contributors to these incidents.\n",
        "* From 1970 to 2017, Iraq, Pakistan, and Afghanistan were the countries with the highest number of attacks.\n",
        "* From 2008 to 2012, there was a consistent number of attacks observed worldwide.\n",
        "* Terrorists top most target are private citizens(Armed Assault) and Govt. establishment such as Military, police and Govt.(General) has been in the top 5 list. India has also the same trend.\n",
        "* Taliban has been the most active terrorist group in the decade 2011-2017. We can say the reason behind sharp rise in terrorist activities after 2008 and biggest contributor to terrorism in South Asia (specifically Afghanistan) is Taliban alone.\n",
        "* Middle east North africa and South Asia has been the most affected region(Taliban)\n",
        "* Like rest of the world, India has also experienced a significant increase in terrorist activities since 2008, with incidents nearly tripling.\n",
        "* Total casualties in India have been more between 1988-92 and 2006-2010. After 2010 there is a significant decrease.\n",
        "* Srinagar has been identified as the most frequently attacked city, with Amritsar ranking third, followed by Sopore in sixth place, Ludhiana in seventh, Anantnag in eighth, and Jammu in eleventh. These findings suggest that the Taliban's influence in India is evident, particularly in Jammu and Kashmir, which has experienced the highest number of attacks\n",
        "* Top 10 most affected state contribute 31% in total population of India however 5 states in that list- Jammu & Kashmir, Manipur, Assam, Meghalaya, Jharkhand (total population share in India=6.78%) accounts for 38% of attacks."
      ],
      "metadata": {
        "id": "Fjb1IsQkh3yE"
      }
    },
    {
      "cell_type": "markdown",
      "source": [
        "### ***Hurrah! You have successfully completed your EDA Capstone Project !!!***"
      ],
      "metadata": {
        "id": "gIfDvo9L0UH2"
      }
    }
  ]
}